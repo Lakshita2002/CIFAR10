{
  "nbformat": 4,
  "nbformat_minor": 0,
  "metadata": {
    "colab": {
      "name": "CIFAR10.ipynb",
      "provenance": [],
      "authorship_tag": "ABX9TyOwyzGQ4piR5LwiYmtbjgLp",
      "include_colab_link": true
    },
    "kernelspec": {
      "name": "python3",
      "display_name": "Python 3"
    },
    "accelerator": "GPU"
  },
  "cells": [
    {
      "cell_type": "markdown",
      "metadata": {
        "id": "view-in-github",
        "colab_type": "text"
      },
      "source": [
        "<a href=\"https://colab.research.google.com/github/Lakshita2002/CIFAR10/blob/master/CIFAR10.ipynb\" target=\"_parent\"><img src=\"https://colab.research.google.com/assets/colab-badge.svg\" alt=\"Open In Colab\"/></a>"
      ]
    },
    {
      "cell_type": "code",
      "metadata": {
        "id": "k38DzR2TUxrs",
        "colab_type": "code",
        "colab": {}
      },
      "source": [
        "import tensorflow as tf"
      ],
      "execution_count": 2,
      "outputs": []
    },
    {
      "cell_type": "code",
      "metadata": {
        "id": "mZKiD-GEVRhs",
        "colab_type": "code",
        "colab": {}
      },
      "source": [
        "cifar_data = tf.keras.datasets.cifar10.load_data()"
      ],
      "execution_count": 3,
      "outputs": []
    },
    {
      "cell_type": "code",
      "metadata": {
        "id": "s_4AlOC9V58L",
        "colab_type": "code",
        "colab": {}
      },
      "source": [
        "x_train, y_train = cifar_data[0]\n",
        "x_test, y_test = cifar_data[1]"
      ],
      "execution_count": 4,
      "outputs": []
    },
    {
      "cell_type": "code",
      "metadata": {
        "id": "eniuXE0uWDXg",
        "colab_type": "code",
        "colab": {
          "base_uri": "https://localhost:8080/",
          "height": 85
        },
        "outputId": "61df3b00-8fb0-4297-d14c-d955c58ef626"
      },
      "source": [
        "print(x_train.shape)\n",
        "print(y_train.shape)\n",
        "print(x_test.shape)\n",
        "print(y_test.shape)"
      ],
      "execution_count": 5,
      "outputs": [
        {
          "output_type": "stream",
          "text": [
            "(50000, 32, 32, 3)\n",
            "(50000, 1)\n",
            "(10000, 32, 32, 3)\n",
            "(10000, 1)\n"
          ],
          "name": "stdout"
        }
      ]
    },
    {
      "cell_type": "code",
      "metadata": {
        "id": "wZAHB3AIXo4P",
        "colab_type": "code",
        "colab": {}
      },
      "source": [
        "x_train = x_train/255\n",
        "x_test = x_test/255"
      ],
      "execution_count": 6,
      "outputs": []
    },
    {
      "cell_type": "code",
      "metadata": {
        "id": "WZAudwU1ccl5",
        "colab_type": "code",
        "colab": {
          "base_uri": "https://localhost:8080/",
          "height": 34
        },
        "outputId": "02af2dbb-4fd4-4ec6-b843-36ec0f37b8c2"
      },
      "source": [
        "y_train = tf.keras.utils.to_categorical(y_train, num_classes=10)\n",
        "print(y_train[0])"
      ],
      "execution_count": 7,
      "outputs": [
        {
          "output_type": "stream",
          "text": [
            "[0. 0. 0. 0. 0. 0. 1. 0. 0. 0.]\n"
          ],
          "name": "stdout"
        }
      ]
    },
    {
      "cell_type": "code",
      "metadata": {
        "id": "Bn6m0R7Dfp3I",
        "colab_type": "code",
        "colab": {
          "base_uri": "https://localhost:8080/",
          "height": 34
        },
        "outputId": "ba79374b-fb01-4120-d358-3f948751301f"
      },
      "source": [
        "print(y_train[4])"
      ],
      "execution_count": 8,
      "outputs": [
        {
          "output_type": "stream",
          "text": [
            "[0. 1. 0. 0. 0. 0. 0. 0. 0. 0.]\n"
          ],
          "name": "stdout"
        }
      ]
    },
    {
      "cell_type": "code",
      "metadata": {
        "id": "P_j3lgKJfvZj",
        "colab_type": "code",
        "colab": {}
      },
      "source": [
        "y_test = tf.keras.utils.to_categorical(y_test, num_classes=10)"
      ],
      "execution_count": 9,
      "outputs": []
    },
    {
      "cell_type": "code",
      "metadata": {
        "id": "Qj2BaDMtYCxt",
        "colab_type": "code",
        "colab": {
          "base_uri": "https://localhost:8080/",
          "height": 357
        },
        "outputId": "f8c47dc8-3faa-487a-a056-7791e664230f"
      },
      "source": [
        "input_layer = tf.keras.layers.Input(shape = (32, 32, 3))\n",
        "hidden_layer_1 = tf.keras.layers.Conv2D(64, kernel_size=(3, 3), activation=tf.keras.activations.relu)(input_layer)\n",
        "hidden_layer_2 = tf.keras.layers.Conv2D(128, kernel_size=(4, 4), activation=tf.keras.activations.relu)(hidden_layer_1)\n",
        "flatten_layer = tf.keras.layers.Flatten()(hidden_layer_2)\n",
        "hidden_layer_3 = tf.keras.layers.Dense(256, activation=tf.keras.activations.relu)(flatten_layer)\n",
        "output_layer = tf.keras.layers.Dense(10, activation=tf.keras.activations.sigmoid)(hidden_layer_3)\n",
        "\n",
        "model = tf.keras.Model(inputs = input_layer, outputs = output_layer)\n",
        "model.summary()"
      ],
      "execution_count": 10,
      "outputs": [
        {
          "output_type": "stream",
          "text": [
            "Model: \"model\"\n",
            "_________________________________________________________________\n",
            "Layer (type)                 Output Shape              Param #   \n",
            "=================================================================\n",
            "input_1 (InputLayer)         [(None, 32, 32, 3)]       0         \n",
            "_________________________________________________________________\n",
            "conv2d (Conv2D)              (None, 30, 30, 64)        1792      \n",
            "_________________________________________________________________\n",
            "conv2d_1 (Conv2D)            (None, 27, 27, 128)       131200    \n",
            "_________________________________________________________________\n",
            "flatten (Flatten)            (None, 93312)             0         \n",
            "_________________________________________________________________\n",
            "dense (Dense)                (None, 256)               23888128  \n",
            "_________________________________________________________________\n",
            "dense_1 (Dense)              (None, 10)                2570      \n",
            "=================================================================\n",
            "Total params: 24,023,690\n",
            "Trainable params: 24,023,690\n",
            "Non-trainable params: 0\n",
            "_________________________________________________________________\n"
          ],
          "name": "stdout"
        }
      ]
    },
    {
      "cell_type": "code",
      "metadata": {
        "id": "4h-POFJJaJsz",
        "colab_type": "code",
        "colab": {
          "base_uri": "https://localhost:8080/",
          "height": 697
        },
        "outputId": "cac9e8a5-aefc-4968-eeef-7d37a571fff3"
      },
      "source": [
        "model.compile(optimizer = tf.keras.optimizers.Adam(), loss = tf.keras.losses.CategoricalCrossentropy(), metrics = ['accuracy'])\n",
        "his = model.fit(x_train, y_train, batch_size = 1000, epochs = 20)"
      ],
      "execution_count": 11,
      "outputs": [
        {
          "output_type": "stream",
          "text": [
            "Epoch 1/20\n",
            "50/50 [==============================] - 16s 320ms/step - loss: 1.7973 - accuracy: 0.3506\n",
            "Epoch 2/20\n",
            "50/50 [==============================] - 16s 321ms/step - loss: 1.2730 - accuracy: 0.5494\n",
            "Epoch 3/20\n",
            "50/50 [==============================] - 16s 323ms/step - loss: 1.0825 - accuracy: 0.6189\n",
            "Epoch 4/20\n",
            "50/50 [==============================] - 16s 326ms/step - loss: 0.9314 - accuracy: 0.6742\n",
            "Epoch 5/20\n",
            "50/50 [==============================] - 16s 326ms/step - loss: 0.8101 - accuracy: 0.7215\n",
            "Epoch 6/20\n",
            "50/50 [==============================] - 16s 326ms/step - loss: 0.6963 - accuracy: 0.7623\n",
            "Epoch 7/20\n",
            "50/50 [==============================] - 16s 326ms/step - loss: 0.5954 - accuracy: 0.7968\n",
            "Epoch 8/20\n",
            "50/50 [==============================] - 16s 326ms/step - loss: 0.5047 - accuracy: 0.8315\n",
            "Epoch 9/20\n",
            "50/50 [==============================] - 16s 327ms/step - loss: 0.4067 - accuracy: 0.8687\n",
            "Epoch 10/20\n",
            "50/50 [==============================] - 16s 326ms/step - loss: 0.3373 - accuracy: 0.8923\n",
            "Epoch 11/20\n",
            "50/50 [==============================] - 16s 327ms/step - loss: 0.2506 - accuracy: 0.9256\n",
            "Epoch 12/20\n",
            "50/50 [==============================] - 16s 328ms/step - loss: 0.1825 - accuracy: 0.9497\n",
            "Epoch 13/20\n",
            "50/50 [==============================] - 16s 327ms/step - loss: 0.1369 - accuracy: 0.9648\n",
            "Epoch 14/20\n",
            "50/50 [==============================] - 16s 328ms/step - loss: 0.1011 - accuracy: 0.9770\n",
            "Epoch 15/20\n",
            "50/50 [==============================] - 16s 328ms/step - loss: 0.0690 - accuracy: 0.9869\n",
            "Epoch 16/20\n",
            "50/50 [==============================] - 16s 329ms/step - loss: 0.0420 - accuracy: 0.9945\n",
            "Epoch 17/20\n",
            "50/50 [==============================] - 16s 328ms/step - loss: 0.0249 - accuracy: 0.9980\n",
            "Epoch 18/20\n",
            "50/50 [==============================] - 16s 329ms/step - loss: 0.0154 - accuracy: 0.9993\n",
            "Epoch 19/20\n",
            "50/50 [==============================] - 16s 328ms/step - loss: 0.0115 - accuracy: 0.9996\n",
            "Epoch 20/20\n",
            "50/50 [==============================] - 16s 329ms/step - loss: 0.0077 - accuracy: 0.9999\n"
          ],
          "name": "stdout"
        }
      ]
    },
    {
      "cell_type": "code",
      "metadata": {
        "id": "03an8XWha22F",
        "colab_type": "code",
        "colab": {
          "base_uri": "https://localhost:8080/",
          "height": 282
        },
        "outputId": "d08d6c7a-b591-422c-ce5e-53633ffd0121"
      },
      "source": [
        "import matplotlib.pyplot as plt\n",
        "plt.plot(his.history['accuracy'])"
      ],
      "execution_count": 12,
      "outputs": [
        {
          "output_type": "execute_result",
          "data": {
            "text/plain": [
              "[<matplotlib.lines.Line2D at 0x7effcd0df390>]"
            ]
          },
          "metadata": {
            "tags": []
          },
          "execution_count": 12
        },
        {
          "output_type": "display_data",
          "data": {
            "image/png": "[encoded data removed]",
            "text/plain": [
              "<Figure size 432x288 with 1 Axes>"
            ]
          },
          "metadata": {
            "tags": [],
            "needs_background": "light"
          }
        }
      ]
    },
    {
      "cell_type": "code",
      "metadata": {
        "id": "gSBcq7BMusnQ",
        "colab_type": "code",
        "colab": {
          "base_uri": "https://localhost:8080/",
          "height": 282
        },
        "outputId": "4ded3dbc-e371-4559-e8a0-6df51b0f7835"
      },
      "source": [
        "import matplotlib.pyplot as plt\n",
        "plt.plot(his.history['loss'])"
      ],
      "execution_count": 13,
      "outputs": [
        {
          "output_type": "execute_result",
          "data": {
            "text/plain": [
              "[<matplotlib.lines.Line2D at 0x7effccbba198>]"
            ]
          },
          "metadata": {
            "tags": []
          },
          "execution_count": 13
        },
        {
          "output_type": "display_data",
          "data": {
            "image/png": "[encoded data removed]",
            "text/plain": [
              "<Figure size 432x288 with 1 Axes>"
            ]
          },
          "metadata": {
            "tags": [],
            "needs_background": "light"
          }
        }
      ]
    }
  ]
}